{
 "cells": [
  {
   "cell_type": "markdown",
   "id": "87e86884",
   "metadata": {},
   "source": [
    "# A smart home is a residence setup that has devices connected and interacted remotely through smartphone, laptop or computer. These devices are linked via central hub or network and can be set up through wireless or hardware systems. "
   ]
  },
  {
   "cell_type": "markdown",
   "id": "87daf2f2",
   "metadata": {},
   "source": [
    "# Here we aim to build a smart home automation project by using the concepts of Object Oriented Programming in Python. The project initiates at discussing the devices that are commonly used in the smart home system set up, its significance and functionalities and entails the concepts related to data storage and security. "
   ]
  },
  {
   "cell_type": "markdown",
   "id": "4ed46c94",
   "metadata": {},
   "source": [
    "# Let's start with making a base class device. Class is the blueprint of creating objects. So, our device class will have its basic attributes and methods defined as the below. Methods are functions written inside a class. "
   ]
  },
  {
   "cell_type": "code",
   "execution_count": 1,
   "id": "0bbfe5e1",
   "metadata": {},
   "outputs": [],
   "source": [
    "# Base Device Class\n",
    "class Device:\n",
    "    def __init__(self, device_id, name):\n",
    "        self.device_id = device_id\n",
    "        self.name = name\n",
    "        self.status = 'off'\n",
    "\n",
    "    def turn_on(self):\n",
    "        self.status = 'on'\n",
    "\n",
    "    def turn_off(self):\n",
    "        self.status = 'off'\n",
    "\n",
    "    def get_status(self):\n",
    "        return self.status"
   ]
  },
  {
   "cell_type": "markdown",
   "id": "27ee8839",
   "metadata": {},
   "source": [
    "# Now, we create our smart home devices and pass the parent class Device into the hence formed classes so that these devices inherit the properties and methods of the parent class Device."
   ]
  },
  {
   "cell_type": "markdown",
   "id": "9206e8f6",
   "metadata": {},
   "source": [
    "# Smart Thermostat - It is a device that allows user's control on the home's heating and cooling systems. It can be programmed to adjust to temperatures based on user preferences and conditions and external conditions as well.\n",
    "\n",
    "# It is helpful in mainaining optimal temperatures and reduces energy consumption."
   ]
  },
  {
   "cell_type": "code",
   "execution_count": 2,
   "id": "f0f60d6b",
   "metadata": {},
   "outputs": [],
   "source": [
    "# Smart Thermostat Class\n",
    "class SmartThermostat(Device):\n",
    "    def __init__(self, device_id, name, temperature=22):\n",
    "        super().__init__(device_id, name)\n",
    "        self.temperature = temperature\n",
    "        self.mode = 'auto'\n",
    "        self.schedule = {}\n",
    "        self.data_log=[]  #we defined data storage\n",
    "\n",
    "    def set_temperature(self, temperature):\n",
    "        self.temperature = temperature\n",
    "        self.log_data('Temperature', temperature)\n",
    "\n",
    "    def get_temperature(self):\n",
    "        return self.temperature\n",
    "\n",
    "    def set_schedule(self, day, time, temperature):\n",
    "        self.schedule[(day, time)] = temperature\n",
    "        self.log_data('schedule', (day,time,temperature))\n",
    "\n",
    "    def get_schedule(self):\n",
    "        return self.schedule\n",
    "    \n",
    "    def log_data(self,key,value):\n",
    "        self.data_log.append((key,value))\n",
    "        \n",
    "    def get_data_log(self):\n",
    "        return self.data_log"
   ]
  },
  {
   "cell_type": "markdown",
   "id": "bac8ec0d",
   "metadata": {},
   "source": [
    "# Smart Security Camera - A device that captures video footage and provides real time monitoring of a home or office. Includes motion detection and remote viewing capabitlites.\n",
    "\n",
    "# Enables remote monitoring and sends notifications and alerts depending upon the programmed conditions."
   ]
  },
  {
   "cell_type": "code",
   "execution_count": 5,
   "id": "a9696624",
   "metadata": {},
   "outputs": [],
   "source": [
    "# Smart Security Camera Class\n",
    "class SmartSecurityCamera(Device):\n",
    "    def __init__(self, device_id, name):\n",
    "        super().__init__(device_id, name)\n",
    "        self.recording_status = 'off'\n",
    "        self.motion_detected = False\n",
    "        self.data_log=[]  #defined data storage\n",
    "\n",
    "    def start_recording(self):\n",
    "        self.recording_status = 'on'\n",
    "        self.log_data('recording_status','on')\n",
    "\n",
    "    def stop_recording(self):\n",
    "        self.recording_status = 'off'\n",
    "        self.log_data('recoding_satus','off')\n",
    "\n",
    "    def detect_motion(self):\n",
    "        self.motion_detected = True\n",
    "        self.log_data('motion_detected', True)\n",
    "    \n",
    "    def log_data(self,key,value):\n",
    "        self.data_log.append((key,value))\n",
    "        \n",
    "    def get_data_log(self):\n",
    "        return self.data_log"
   ]
  },
  {
   "cell_type": "markdown",
   "id": "c49650e2",
   "metadata": {},
   "source": [
    "# Smart Light - A light device that can change brightness and color. Creates the desired lighting environment and optimises the power usage."
   ]
  },
  {
   "cell_type": "code",
   "execution_count": 6,
   "id": "e699466d",
   "metadata": {},
   "outputs": [],
   "source": [
    "# Smart Light Class\n",
    "class SmartLight(Device):\n",
    "    def __init__(self, device_id, name, brightness=100, color='white'):\n",
    "        super().__init__(device_id, name)\n",
    "        self.brightness = brightness\n",
    "        self.color = color\n",
    "        self.data_log=[] #defined data storage\n",
    "\n",
    "    def set_brightness(self, brightness):\n",
    "        self.brightness = brightness\n",
    "        self.log_data('brightness', brightness)\n",
    "\n",
    "    def set_color(self, color):\n",
    "        self.color = color\n",
    "        self.log_data('color',color)\n",
    "        \n",
    "    def log_data(self,key,value):\n",
    "        self.data_log.append((key,value))\n",
    "        \n",
    "    def get_data_log(self):\n",
    "        return self.data_log"
   ]
  },
  {
   "cell_type": "markdown",
   "id": "b666aff9",
   "metadata": {},
   "source": [
    "# Indoor Camera - a security device designed to monitor and record activities inside a home. It includes features like recording, motion detection, and night vision and remote access. I have included basic features of recording and motion detection.\n",
    "\n",
    "# Indoor camera are crucial for ome security and help in keeping an eye on various areas of home remotely."
   ]
  },
  {
   "cell_type": "code",
   "execution_count": 9,
   "id": "0482013c",
   "metadata": {},
   "outputs": [],
   "source": [
    "# Indoor Camera Class\n",
    "class IndoorCamera(Device):\n",
    "    def __init__(self, device_id, name):\n",
    "        super().__init__(device_id, name)\n",
    "        self.recording_status = 'off'\n",
    "        self.motion_detected = False\n",
    "        self.data_log=[] #defined data storage\n",
    "\n",
    "    def start_recording(self):\n",
    "        self.recording_status = 'on'\n",
    "        self.log_data('recording_status','on')\n",
    "\n",
    "    def stop_recording(self):\n",
    "        self.recording_status = 'off'\n",
    "        self.log_data('recording_status','off')\n",
    "\n",
    "    def detect_motion(self):\n",
    "        self.motion_detected = True\n",
    "        self.log_data('motion detected', True)\n",
    "    \n",
    "    def log_data(self,key,value):\n",
    "        self.data_log.append((key,value))\n",
    "        \n",
    "    def get_data_log(self):\n",
    "        return self.data_log"
   ]
  },
  {
   "cell_type": "markdown",
   "id": "62bd337e",
   "metadata": {},
   "source": [
    "# Smart display dashboard is an interactive screen that shows various types of information like weather, temperature inside, security camera and indoor camera, and other smart devices. It basically acts as a central hub for interacting and viewing the functioning of the devices and hence, home."
   ]
  },
  {
   "cell_type": "code",
   "execution_count": 10,
   "id": "e99bcbfa",
   "metadata": {},
   "outputs": [],
   "source": [
    "# Smart Display Dashboard Class\n",
    "class SmartDisplayDashboard(Device):\n",
    "    def __init__(self, device_id, name, display_content=''):\n",
    "        super().__init__(device_id, name)\n",
    "        self.display_content = display_content\n",
    "        self.data_log=[]\n",
    "\n",
    "    def update_display(self, content):\n",
    "        self.display_content = content\n",
    "        self.log_data('display content', content)\n",
    "\n",
    "    def get_display_content(self):\n",
    "        return self.display_content\n",
    "    \n",
    "    def log_data(self,key,value):\n",
    "        self.data_log.append((key,value))\n",
    "        \n",
    "    def get_data_log(self):\n",
    "        return self.data_log\n"
   ]
  },
  {
   "cell_type": "markdown",
   "id": "fd25c2e8",
   "metadata": {},
   "source": [
    "# Smart Door Locks are electronic locks that can be controlled remotely for keyless entry and enhanced security. "
   ]
  },
  {
   "cell_type": "code",
   "execution_count": 13,
   "id": "c1969008",
   "metadata": {},
   "outputs": [],
   "source": [
    "# Smart Door Locks Class\n",
    "class SmartDoorLock(Device):\n",
    "    def __init__(self, device_id, name, lock_status='locked', battery_level=100):\n",
    "        super().__init__(device_id, name)\n",
    "        self.lock_status = lock_status\n",
    "        self.battery_level = battery_level\n",
    "        self.data_log=[]\n",
    "\n",
    "    def lock(self):\n",
    "        self.lock_status = 'locked'\n",
    "        self.log_data('lock status','locked')\n",
    "\n",
    "    def unlock(self):\n",
    "        self.lock_status = 'unlocked'\n",
    "        self.log_data('lock staus','unlocked')\n",
    "\n",
    "    def get_status(self):\n",
    "        return self.lock_status\n",
    "\n",
    "    def get_battery_level(self):\n",
    "        return self.battery_level\n",
    "    \n",
    "    def log_data(self,key,value):\n",
    "        self.data_log.append((key,value))\n",
    "        \n",
    "    def get_data_log(self):\n",
    "        return self.data_log"
   ]
  },
  {
   "cell_type": "markdown",
   "id": "1d9c42c7",
   "metadata": {},
   "source": [
    "# Smart Blinds are window covering that cna be controlled remotely to adjust the amount of light entering a room. \n",
    "\n",
    "# Smart blinds can be ideologically integrated with smart lights and other smart devices to have an integrated energy saving experience."
   ]
  },
  {
   "cell_type": "code",
   "execution_count": 14,
   "id": "96186889",
   "metadata": {},
   "outputs": [],
   "source": [
    "# Smart Blinds Class\n",
    "class SmartBlinds(Device):\n",
    "    def __init__(self, device_id, name, position='closed', scheduled_times=None):\n",
    "        super().__init__(device_id, name)\n",
    "        self.position = position\n",
    "        self.scheduled_times = scheduled_times if scheduled_times is not None else {}\n",
    "        self.data_log=[]\n",
    "\n",
    "    def open_blinds(self):\n",
    "        self.position = 'open'\n",
    "        self.log_data('position','open')\n",
    "\n",
    "    def close_blinds(self):\n",
    "        self.position = 'closed'\n",
    "        self.log_data('position','closed')\n",
    "\n",
    "    def set_schedule(self, day, time):\n",
    "        self.scheduled_times[day] = time\n",
    "        self.data_log('schedule',(day,time))\n",
    "\n",
    "    def get_schedule(self):\n",
    "        return self.scheduled_times\n",
    "    \n",
    "    def log_data(self,key,value):\n",
    "        self.data_log.append((key,value))\n",
    "        \n",
    "    def get_data_log(self):\n",
    "        return self.data_log"
   ]
  },
  {
   "cell_type": "markdown",
   "id": "96706424",
   "metadata": {},
   "source": [
    "# Smart Speakers - They are voice acrivated devices that can play music, control other smart smart devices, provide net based information and more. It enables audio controlled access to devices through voice commands."
   ]
  },
  {
   "cell_type": "code",
   "execution_count": 15,
   "id": "37fac782",
   "metadata": {},
   "outputs": [],
   "source": [
    "# Smart Speakers Class\n",
    "class SmartSpeaker(Device):\n",
    "    def __init__(self, device_id, name, volume=50, is_playing=False, current_track=''):\n",
    "        super().__init__(device_id, name)\n",
    "        self.volume = volume\n",
    "        self.is_playing = is_playing\n",
    "        self.current_track = current_track\n",
    "        self.data_log=[]\n",
    "\n",
    "    def play(self):\n",
    "        self.is_playing = True\n",
    "        self.log_data('is playing',True)\n",
    "\n",
    "    def pause(self):\n",
    "        self.is_playing = False\n",
    "        self.log_data('is playing', False)\n",
    "\n",
    "    def set_volume(self, volume):\n",
    "        self.volume = volume\n",
    "        self.log_data('volume',volume)\n",
    "\n",
    "    def change_track(self, track):\n",
    "        self.current_track = track\n",
    "        self.log_data('current track', track)\n",
    "        \n",
    "    def log_data(self,key,value):\n",
    "        self.data_log.append((key,value))\n",
    "        \n",
    "    def get_data_log(self):\n",
    "        return self.data_log"
   ]
  },
  {
   "cell_type": "markdown",
   "id": "20088ed5",
   "metadata": {},
   "source": [
    "# Smart Health Monitor are especially important today, more than ever. Today, we have smart watches, fitness tracker apps, pedometers, etc that track various health metrics like heartrate and can be programmed to give alerts and notifications when the data fluctuates beyond a range.\n",
    "\n",
    "# Here I have included simple and basic heart rate and BP monitoring controls."
   ]
  },
  {
   "cell_type": "code",
   "execution_count": 16,
   "id": "3c4c7519",
   "metadata": {},
   "outputs": [],
   "source": [
    "# Smart Health Monitor Class\n",
    "class SmartHealthMonitor(Device):\n",
    "    def __init__(self, device_id, name, heart_rate=0, blood_pressure=(0, 0), battery_level=100):\n",
    "        super().__init__(device_id, name)\n",
    "        self.heart_rate = heart_rate\n",
    "        self.blood_pressure = blood_pressure\n",
    "        self.battery_level = battery_level\n",
    "        self.data_log=[]\n",
    "\n",
    "    def measure_heart_rate(self):\n",
    "        self.heart_rate = 72 \n",
    "        self.log_data('heart rate', self.heart_rate)\n",
    "\n",
    "    def measure_blood_pressure(self):\n",
    "        self.blood_pressure = (120, 80)  \n",
    "        self.log_data('blood pressure', self.blood_pressure)\n",
    "\n",
    "    def get_battery_status(self):\n",
    "        return self.battery_level\n",
    "    \n",
    "    def log_data(self,key,value):\n",
    "        self.data_log.append((key,value))\n",
    "        \n",
    "    def get_data_log(self):\n",
    "        return self.data_log\n"
   ]
  },
  {
   "cell_type": "markdown",
   "id": "490ed187",
   "metadata": {},
   "source": [
    "#  Central Hub - integration of all the devices."
   ]
  },
  {
   "cell_type": "code",
   "execution_count": 17,
   "id": "30ed28d6",
   "metadata": {},
   "outputs": [],
   "source": [
    "class CentralHub:\n",
    "    def __init__(self):\n",
    "        self.devices = {}\n",
    "\n",
    "    def add_device(self, device):\n",
    "        self.devices[device.device_id] = device\n",
    "\n",
    "    def execute_automation(self):\n",
    "        # Placeholder for automation logic\n",
    "        print(\"Executing automation...\")\n",
    "\n",
    "    def get_device_status(self, device_id):\n",
    "        device = self.devices.get(device_id)\n",
    "        if device:\n",
    "            return device.get_status()\n",
    "        else:\n",
    "            return \"Device not found\"\n",
    "\n",
    "    def get_all_data_logs(self):\n",
    "        logs = {}\n",
    "        for device_id, device in self.devices.items():\n",
    "            logs[device_id] = device.get_data_log()\n",
    "        return logs\n"
   ]
  },
  {
   "cell_type": "markdown",
   "id": "f5b09abc",
   "metadata": {},
   "source": [
    "# Example usage"
   ]
  },
  {
   "cell_type": "code",
   "execution_count": 21,
   "id": "7f0fd238",
   "metadata": {},
   "outputs": [
    {
     "name": "stdout",
     "output_type": "stream",
     "text": [
      "Executing automation...\n",
      "off\n",
      "Data log for device 1: [('Temperature', 24)]\n",
      "Data log for device 2: [('recording_status', 'on')]\n",
      "Data log for device 3: [('brightness', 75)]\n",
      "Data log for device 4: []\n",
      "Data log for device 5: []\n",
      "Data log for device 6: []\n",
      "Data log for device 7: []\n",
      "Data log for device 8: []\n",
      "Data log for device 9: []\n"
     ]
    }
   ],
   "source": [
    "def main():\n",
    "    # Creating instances of devices\n",
    "    thermostat = SmartThermostat(device_id='1', name='Thermostat')\n",
    "    security_camera = SmartSecurityCamera(device_id='2', name='Security Camera')\n",
    "    light = SmartLight(device_id='3', name='Living Room Light')\n",
    "    indoor_cam = IndoorCamera(device_id='4', name='Indoor Camera')\n",
    "    display_dashboard = SmartDisplayDashboard(device_id='5', name='Display Dashboard')\n",
    "    door_lock = SmartDoorLock(device_id='6', name='Front Door Lock')\n",
    "    blinds = SmartBlinds(device_id='7', name='Bedroom Blinds')\n",
    "    speaker = SmartSpeaker(device_id='8', name='Living Room Speaker')\n",
    "    health_monitor = SmartHealthMonitor(device_id='9', name='Health Monitor')\n",
    "   \n",
    "\n",
    "    # Creating central hub\n",
    "    hub = CentralHub()\n",
    "\n",
    "    # Adding devices to the hub\n",
    "    hub.add_device(thermostat)\n",
    "    hub.add_device(security_camera)\n",
    "    hub.add_device(light)\n",
    "    hub.add_device(indoor_cam)\n",
    "    hub.add_device(display_dashboard)\n",
    "    hub.add_device(door_lock)\n",
    "    hub.add_device(blinds)\n",
    "    hub.add_device(speaker)\n",
    "    hub.add_device(health_monitor)\n",
    "    \n",
    "    # Example actions\n",
    "    thermostat.set_temperature(24)\n",
    "    security_camera.start_recording()\n",
    "    light.set_brightness(75)\n",
    "  \n",
    "\n",
    "    # Execute automation\n",
    "    hub.execute_automation()\n",
    "\n",
    "    # Get status of a device\n",
    "    print(hub.get_device_status('3'))  # Living Room Light\n",
    "\n",
    "    # Get all data logs\n",
    "    all_logs = hub.get_all_data_logs()\n",
    "    for device_id, logs in all_logs.items():\n",
    "        print(f\"Data log for device {device_id}: {logs}\")\n",
    "\n",
    "if __name__ == '__main__':\n",
    "    main()\n"
   ]
  }
 ],
 "metadata": {
  "kernelspec": {
   "display_name": "Python 3 (ipykernel)",
   "language": "python",
   "name": "python3"
  },
  "language_info": {
   "codemirror_mode": {
    "name": "ipython",
    "version": 3
   },
   "file_extension": ".py",
   "mimetype": "text/x-python",
   "name": "python",
   "nbconvert_exporter": "python",
   "pygments_lexer": "ipython3",
   "version": "3.11.4"
  }
 },
 "nbformat": 4,
 "nbformat_minor": 5
}
